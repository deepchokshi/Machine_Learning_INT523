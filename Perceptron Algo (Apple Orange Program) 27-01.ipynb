{
 "cells": [
  {
   "cell_type": "markdown",
   "metadata": {},
   "source": [
    "# Perceptron Algorithm\n",
    "\n",
    "### Apple & Orange Program"
   ]
  },
  {
   "cell_type": "code",
   "execution_count": 7,
   "metadata": {},
   "outputs": [],
   "source": [
    "import numpy as np\n",
    "import pandas as pd"
   ]
  },
  {
   "cell_type": "code",
   "execution_count": 16,
   "metadata": {},
   "outputs": [
    {
     "name": "stdout",
     "output_type": "stream",
     "text": [
      "Enter the shape (round/ellipse)round\n",
      "Enter the texture (smooth/rough)rough\n",
      "Enter the weight in pounds-1\n",
      "[ 1 -1 -1]\n",
      "Orange\n"
     ]
    }
   ],
   "source": [
    "import numpy as np\n",
    "\n",
    "# Shape\n",
    "\n",
    "x=input(\"Enter the shape (round/ellipse)\") #typecast--> if you want store number\n",
    "if x==\"round\":\n",
    "    shape=1\n",
    "else:\n",
    "    shape=-1\n",
    "\n",
    "# Texture\n",
    "\n",
    "x=input(\"Enter the texture (smooth/rough)\")\n",
    "\n",
    "if x==\"smooth\":\n",
    "    texture=1\n",
    "else:\n",
    "    texture=-1\n",
    "\n",
    "# Weight\n",
    "\n",
    "x=int(input(\"Enter the weight in pounds\")) # integer\n",
    "\n",
    "if x>=1:\n",
    "    wt=1\n",
    "else:\n",
    "    wt=-1\n",
    "\n",
    "\n",
    "#############################################################################\n",
    "\n",
    "\n",
    "input_vector=np.array([shape,texture,wt])\n",
    "print(input_vector.T)\n",
    "\n",
    "w=np.array([0,1,0]) # alreay available in the question\n",
    "b=0\n",
    "\n",
    "y=(w*x).sum()+b # formula-->already known\n",
    "\n",
    "\n",
    "#############################################################################\n",
    "\n",
    "def perceptron(x): # function definition\n",
    "    if x>=0:\n",
    "        return 1\n",
    "    else:\n",
    "        return -1\n",
    "\n",
    "output=perceptron(y) # function calling\n",
    "\n",
    "if output==1:\n",
    "    print(\"Apple\")\n",
    "else:\n",
    "    print(\"Orange\")"
   ]
  },
  {
   "cell_type": "markdown",
   "metadata": {},
   "source": [
    "''''Write a python program to do the classification using using perceptron. Consider weight matrix and bias as follows:\n",
    "W= [1 1 0] and b=5\n",
    "Test case 1\n",
    "Shape=round, texture=rough, weight= 2 pound size=small\n",
    "Test case 2\n",
    "Shape =elliptical, texture=smooth, weight= 2 pound size=large\n",
    "Use the following equation to compute the result:\n",
    "Y=W.X+b, where W is weight, X is input and b is bias'''"
   ]
  }
 ],
 "metadata": {
  "kernelspec": {
   "display_name": "Python 3",
   "language": "python",
   "name": "python3"
  },
  "language_info": {
   "codemirror_mode": {
    "name": "ipython",
    "version": 3
   },
   "file_extension": ".py",
   "mimetype": "text/x-python",
   "name": "python",
   "nbconvert_exporter": "python",
   "pygments_lexer": "ipython3",
   "version": "3.8.3"
  }
 },
 "nbformat": 4,
 "nbformat_minor": 4
}
